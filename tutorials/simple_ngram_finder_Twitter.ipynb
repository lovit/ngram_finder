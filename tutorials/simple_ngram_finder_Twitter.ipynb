{
 "cells": [
  {
   "cell_type": "code",
   "execution_count": 1,
   "metadata": {
    "collapsed": false
   },
   "outputs": [
    {
     "data": {
      "text/plain": [
       "223357"
      ]
     },
     "execution_count": 1,
     "metadata": {},
     "output_type": "execute_result"
    }
   ],
   "source": [
    "from config import twitter_tokenized_corpus_fname\n",
    "from soynlp.utils import DoublespaceLineCorpus\n",
    "\n",
    "corpus = DoublespaceLineCorpus(twitter_tokenized_corpus_fname, iter_sent=True)\n",
    "len(corpus)"
   ]
  },
  {
   "cell_type": "code",
   "execution_count": 2,
   "metadata": {
    "collapsed": false
   },
   "outputs": [
    {
     "name": "stdout",
     "output_type": "stream",
     "text": [
      "scanning simple ngram was done. memory= 0.321 Gb\n"
     ]
    }
   ],
   "source": [
    "import sys\n",
    "sys.path.append('../')\n",
    "import ngramfinder\n",
    "from ngramfinder.simplengram import SimpleNgramFinder\n",
    "\n",
    "ngram_finder = SimpleNgramFinder()\n",
    "ngrams = ngram_finder.train(corpus)"
   ]
  },
  {
   "cell_type": "code",
   "execution_count": 3,
   "metadata": {
    "collapsed": false
   },
   "outputs": [
    {
     "data": {
      "text/plain": [
       "[(('했/Verb', '다/Eomi'), 23211),\n",
       " (('배포/Noun', '금지/Noun'), 21403),\n",
       " (('20/Number', '일/Noun'), 20854),\n",
       " (('무단/Noun', '전재/Noun'), 20485),\n",
       " (('재/Noun', '배포/Noun'), 20443),\n",
       " (('재/Noun', '배포/Noun', '금지/Noun'), 20435),\n",
       " (('및/Noun', '재/Noun'), 14692),\n",
       " (('및/Noun', '재/Noun', '배포/Noun'), 14687),\n",
       " (('및/Noun', '재/Noun', '배포/Noun', '금지/Noun'), 14687),\n",
       " (('전재/Noun', '및/Noun'), 14344)]"
      ]
     },
     "execution_count": 3,
     "metadata": {},
     "output_type": "execute_result"
    }
   ],
   "source": [
    "sorted(ngrams.items(), key=lambda x:x[1] if len(x[0]) > 1 else -1, reverse=True)[:10]"
   ]
  },
  {
   "cell_type": "code",
   "execution_count": 4,
   "metadata": {
    "collapsed": false
   },
   "outputs": [
    {
     "data": {
      "text/plain": [
       "230195"
      ]
     },
     "execution_count": 4,
     "metadata": {},
     "output_type": "execute_result"
    }
   ],
   "source": [
    "len(ngrams)"
   ]
  },
  {
   "cell_type": "code",
   "execution_count": 5,
   "metadata": {
    "collapsed": true
   },
   "outputs": [],
   "source": [
    "from ngramfinder.score import cohesion_score, branching_entropy, mutual_information"
   ]
  },
  {
   "cell_type": "code",
   "execution_count": 6,
   "metadata": {
    "collapsed": false
   },
   "outputs": [],
   "source": [
    "ngrams_cohesion = cohesion_score(ngrams, 30)\n",
    "ngrams_branchingentropy = branching_entropy(ngrams, 30)\n",
    "ngrams_mutualinformation = mutual_information(ngrams, 30)\n",
    "ngrams_branchingentropy_dict = {ngram:ngram.score for ngram in ngrams_branchingentropy}"
   ]
  },
  {
   "cell_type": "code",
   "execution_count": 7,
   "metadata": {
    "collapsed": false
   },
   "outputs": [
    {
     "data": {
      "text/plain": [
       "(51136, 20938, 49008)"
      ]
     },
     "execution_count": 7,
     "metadata": {},
     "output_type": "execute_result"
    }
   ],
   "source": [
    "len(ngrams_cohesion), len(ngrams_branchingentropy), len(ngrams_mutualinformation), "
   ]
  },
  {
   "cell_type": "code",
   "execution_count": 8,
   "metadata": {
    "collapsed": false
   },
   "outputs": [
    {
     "name": "stdout",
     "output_type": "stream",
     "text": [
      "했/Verb - 다/Eomi (23211, 14.072)\n",
      "적/Suffix - 인/Josa (9104, 13.668)\n",
      "에/Josa - 대한/Noun (8603, 12.894)\n",
      "들/Suffix - 이/Josa (11151, 12.473)\n",
      "들/Suffix - 의/Josa (8692, 11.252)\n",
      "것/Noun - 으로/Josa (10460, 10.210)\n",
      "에서/Josa - 열린/Verb (4720, 8.480)\n",
      "들/Suffix - 을/Josa (4594, 8.073)\n",
      "들/Suffix - 은/Josa (6373, 7.985)\n",
      "적/Suffix - 으로/Josa (7530, 7.957)\n",
      "됐/Verb - 다/Eomi (8582, 7.913)\n",
      "다/Eomi - 고/Noun (11260, 7.417)\n",
      "수/Noun - 있는/Adjective (5458, 7.091)\n",
      "에/Josa - 대해/Noun (5569, 6.511)\n",
      "20/Number - 일/Noun (20854, 6.411)\n",
      "에/Josa - 따르/Verb - 면/Eomi (3427, 6.338)\n",
      "할/Verb - 수/Noun (4930, 6.247)\n",
      "다/Eomi - 며/Noun (5355, 6.185)\n",
      "것/Noun - 을/Josa (2967, 6.160)\n",
      "고/Eomi - 있다/Adjective (4890, 6.102)\n",
      "하고/Josa - 있다/Adjective (3833, 5.432)\n",
      "10/Number - 월/Noun (2225, 5.413)\n",
      "것/Noun - 이/Josa (3208, 5.396)\n",
      "11/Number - 월/Noun (2886, 5.393)\n",
      "된/Verb - 다/Eomi (6564, 5.389)\n",
      "수/Noun - 있다/Adjective (5928, 5.260)\n",
      "기자/Noun - 배우/Noun (1124, 4.978)\n",
      "것/Noun - 은/Josa (3531, 4.953)\n",
      "들/Suffix - 과/Josa (2628, 4.941)\n",
      "명/Noun - 이/Josa (1765, 4.855)\n",
      "19/Number - 일/Noun (5604, 4.794)\n",
      "1/Number - 년/Noun (1160, 4.762)\n",
      "이/Determiner - 날/Noun (6327, 4.670)\n",
      "일/Noun - 부터/Josa (1975, 4.613)\n",
      "한/Verb - 다/Eomi (8538, 4.566)\n",
      "3/Number - 분기/Noun (1385, 4.341)\n",
      "고/Josa - 있다/Adjective (2432, 4.253)\n",
      "더불어/Verb - 민주당/Noun (1985, 4.186)\n",
      "좋/Adjective - 은/Eomi (1597, 4.163)\n",
      "있다/Adjective - 고/Noun (2474, 4.041)\n",
      "들/Suffix - 에게/Josa (2537, 4.024)\n",
      "2/Number - 년/Noun (1078, 4.024)\n",
      "2014/Number - 년/Noun (1698, 4.022)\n",
      "있다/Adjective - 는/Eomi (2061, 3.958)\n",
      "것/Noun - 이라고/Josa (3963, 3.937)\n",
      "밝혔/Verb - 다/Eomi (8289, 3.926)\n",
      "할/Verb - 것/Noun (2300, 3.847)\n",
      "관심/Noun - 을/Josa (919, 3.781)\n",
      "일/Noun - 까지/Josa (2387, 3.765)\n",
      "은/Josa - 지난/Noun (1497, 3.702)\n",
      "2016/Number - 년/Noun (1279, 3.687)\n",
      "21/Number - 일/Noun (1752, 3.597)\n",
      "질투/Noun - 의/Josa - 화신/Noun (880, 3.582)\n",
      "혐의/Noun - 로/Josa (1069, 3.573)\n",
      "등/Noun - 을/Josa (4744, 3.547)\n",
      "이/Josa - 20/Number - 일/Noun (3104, 3.512)\n",
      "을/Josa - 위한/Verb (2248, 3.479)\n",
      "을/Eomi - 수/Noun (1818, 3.448)\n",
      "것/Noun - 이다/Josa (3264, 3.447)\n",
      "장관/Noun - 은/Josa (1011, 3.394)\n",
      "관계자/Noun - 는/Josa (3009, 3.378)\n",
      "있는/Adjective - 것/Noun (1526, 3.368)\n",
      "명/Noun - 을/Josa (1407, 3.348)\n",
      "는/Josa - 지난/Noun (1459, 3.315)\n",
      "이/Noun - 들/Suffix (2910, 3.313)\n",
      "영향/Noun - 을/Josa (882, 3.274)\n",
      "투자/Noun - 의견/Noun (494, 3.265)\n",
      "역할/Noun - 을/Josa (1016, 3.256)\n",
      "은/Josa - 20/Number - 일/Noun (1538, 3.241)\n",
      "입장/Noun - 을/Josa (856, 3.232)\n",
      "을/Josa - 했/Verb (1234, 3.212)\n",
      "볼/Noun - 수/Noun (1043, 3.186)\n",
      "등/Noun - 의/Josa (2738, 3.186)\n",
      "수/Noun - 있도/Adjective - 록/Eomi (2255, 3.154)\n",
      "을/Josa - 선/Noun (913, 3.133)\n",
      "자신/Noun - 의/Josa (2189, 3.082)\n",
      "한/Josa - 것/Noun (2121, 3.065)\n",
      "의혹/Noun - 이/Josa (857, 3.025)\n",
      "때문/Noun - 에/Josa (4792, 3.024)\n",
      "을/Josa - 통해/Noun (4242, 3.023)\n",
      "다/Eomi - 이/Noun (2593, 3.020)\n",
      "되/Verb - 고/Eomi (2673, 2.989)\n",
      "시/Noun - 30/Number - 분/Noun (543, 2.988)\n",
      "을/Josa - 펼/Verb (871, 2.985)\n",
      "기자/Noun - 20/Number - 일/Noun (1796, 2.981)\n",
      "회의/Noun - 를/Josa (692, 2.973)\n",
      "20/Number - 일/Noun - 서울/Noun (1743, 2.950)\n",
      "했/Verb - 다고/Eomi (2388, 2.939)\n",
      "9/Number - 월/Noun (1468, 2.935)\n",
      "12/Number - 월/Noun (1230, 2.926)\n",
      "을/Eomi - 것/Noun (2617, 2.923)\n",
      "활동/Noun - 을/Josa (1034, 2.919)\n",
      "없다/Adjective - 고/Noun (863, 2.909)\n",
      "전/Noun - 대표/Noun (2691, 2.897)\n",
      "하는/Verb - 것/Noun (1590, 2.858)\n",
      "을/Josa - 기록/Noun (1233, 2.804)\n",
      "가/Josa - 20/Number - 일/Noun (2675, 2.794)\n",
      "의원/Noun - 들/Suffix (696, 2.778)\n",
      "1/Number - 만/Noun (1033, 2.776)\n",
      "6/Number - 월/Noun (1208, 2.763)\n"
     ]
    }
   ],
   "source": [
    "for ngram in sorted(ngrams_branchingentropy, key=lambda x:x.score if x.frequency >100 else -1, reverse=True)[:100]:\n",
    "    print(ngram.words, '(%d, %.3f)' % (ngram.frequency, ngram.score))"
   ]
  },
  {
   "cell_type": "code",
   "execution_count": 9,
   "metadata": {
    "collapsed": false
   },
   "outputs": [
    {
     "name": "stdout",
     "output_type": "stream",
     "text": [
      "기다립니/Verb - 다/Eomi - 뉴스/Noun - 가치나/Noun (1625, 1.000)\n",
      "다/Eomi - 뉴스/Noun - 가치나/Noun (1625, 1.000)\n",
      "무단/Noun - 전재/Noun (20485, 1.000)\n",
      "영상/Noun - 부/Noun - 02/Number - 721/Number (1625, 1.000)\n",
      "부/Noun - 02/Number - 721/Number (1625, 0.999)\n",
      "뉴스/Noun - 가치나/Noun (1625, 0.999)\n",
      "시/PreEomi - 면/Eomi - 적극/Noun - 반영하겠/Verb (1625, 0.999)\n",
      "면/Eomi - 적극/Noun - 반영하겠/Verb (1625, 0.999)\n",
      "02/Number - 721/Number (1625, 0.999)\n",
      "4441/Number - 기사/Noun - 문의/Noun - 4409/Number (199, 0.998)\n",
      "연합뉴스/Noun - 02/Number - 398/Number - 4441/Number (199, 0.998)\n",
      "을/Josa - 끊임없/Adjective - 이/Eomi - 갈아타며/Verb (194, 0.998)\n",
      "소중한/Adjective - 제보/Noun - 를/Josa - 기다립니/Verb (1625, 0.998)\n",
      "적극/Noun - 반영하겠/Verb (1626, 0.998)\n",
      "서울/Noun - 경제/Noun - 와/Josa - 친해지는/Verb (715, 0.998)\n",
      "기사/Noun - 문의/Noun - 4409/Number (199, 0.997)\n",
      "02/Number - 398/Number - 4441/Number (199, 0.997)\n",
      "끊임없/Adjective - 이/Eomi - 갈아타며/Verb (194, 0.997)\n",
      "제보/Noun - 를/Josa - 기다립니/Verb (1625, 0.997)\n",
      "경제/Noun - 와/Josa - 친해지는/Verb (715, 0.997)\n",
      "아/Exclamation - 울러/Verb (530, 0.996)\n",
      "를/Josa - 기다립니/Verb (1626, 0.995)\n",
      "에/Josa - 의해/Verb (403, 0.995)\n",
      "문의/Noun - 4409/Number (199, 0.995)\n",
      "398/Number - 4441/Number (199, 0.995)\n",
      "이/Eomi - 갈아타며/Verb (194, 0.995)\n",
      "에/Josa - 해당하는/Verb (180, 0.994)\n",
      "에게는/Josa - 국민일보/Noun - 에/Josa - 자유로이/Adverb (358, 0.994)\n",
      "인/Josa - 전화/Noun - 02/Number - 781/Number (358, 0.994)\n",
      "엔/Josa - 터온/Noun - 뉴스/Noun - 김현우/Noun (162, 0.994)\n",
      "응/Noun - 구기/Noun (143, 0.993)\n",
      "와/Josa - 친해지는/Verb (715, 0.993)\n",
      "문화/Noun - 체육관/Noun - 광부/Noun (285, 0.993)\n",
      "달/Noun - 의/Josa - 연인/Noun - 보보경심/Noun (46, 0.993)\n",
      "을/Josa - 비교/Noun - 해보니/Verb - 일별/Noun (43, 0.992)\n",
      "에/Josa - 날벼락/Noun (374, 0.992)\n",
      "간/Verb - 주/PreEomi - 하/PreEomi - 였음/Eomi (41, 0.992)\n",
      "국민일보/Noun - 에/Josa - 자유로이/Adverb (358, 0.992)\n",
      "전화/Noun - 02/Number - 781/Number (358, 0.992)\n",
      "수/Noun - 있도/Adjective (2255, 0.992)\n",
      "또한/Noun - 규모/Noun - 가/Josa - 약하기/Adjective (39, 0.992)\n",
      "터온/Noun - 뉴스/Noun - 김현우/Noun (162, 0.991)\n",
      "을/Josa - 다하겠/Verb (210, 0.991)\n",
      "서울/Noun - 연합뉴스/Noun - 신/Noun - 준희/Noun (34, 0.990)\n",
      "오후/Noun - 경기도/Noun - 고양시/Noun - 일산동구/Noun (34, 0.990)\n",
      "리/Noun - 모델링/Noun (101, 0.990)\n",
      "국민/Noun - 을/Josa - 위하고/Verb (50, 0.990)\n",
      "사랑/Noun - 에/Josa - 서툰/Adjective (580, 0.990)\n",
      "체육관/Noun - 광부/Noun (286, 0.990)\n",
      "기아/Noun - 서프라이즈/Noun - 위크엔드/Noun (47, 0.990)\n",
      "팜/Verb - 한농/Noun (94, 0.989)\n",
      "한/Determiner - 끼/Noun - 줍/Verb (371, 0.989)\n",
      "의/Josa - 연인/Noun - 보보경심/Noun (46, 0.989)\n",
      "2/Number - 년/Noun - 여간/Noun - 생활하던/Verb (30, 0.989)\n",
      "플루/Noun - 아/Josa - 릭스/Noun - 테트라/Noun (30, 0.989)\n",
      "메/Noun - 리츠/Noun - 종금/Noun (44, 0.989)\n",
      "총/Noun - 체적/Noun (87, 0.989)\n",
      "비교/Noun - 해보니/Verb - 일별/Noun (43, 0.989)\n",
      "주/PreEomi - 하/PreEomi - 였음/Eomi (41, 0.988)\n",
      "4/Number - 차/Noun - 산업혁명/Noun (164, 0.988)\n",
      "응/Noun - 구기/Noun - 와/Noun - 시옹/Noun (53, 0.988)\n",
      "규모/Noun - 가/Josa - 약하기/Adjective (39, 0.987)\n",
      "현대/Noun - 커/Verb - 머셜/Noun (39, 0.987)\n",
      "보/Noun - 여준/Noun (307, 0.987)\n",
      "지/Verb - 분율/Noun (76, 0.987)\n",
      "서울/Noun - 연합뉴스/Noun - 이재희/Noun (37, 0.987)\n",
      "산업/Noun - 통상/Noun - 자원부/Noun (184, 0.987)\n",
      "아니/Adjective - 에요/Eomi (74, 0.987)\n",
      "마른/Adjective - 하늘/Noun - 에/Josa - 날벼락/Noun (362, 0.987)\n",
      "골든/Noun - 센/Verb - 츄리/Noun (36, 0.986)\n",
      "02/Number - 781/Number (359, 0.986)\n",
      "총/Noun - 궐기/Noun (71, 0.986)\n",
      "프로/Noun - 듀스/Noun (281, 0.986)\n",
      "연합뉴스/Noun - 신/Noun - 준희/Noun (34, 0.986)\n",
      "경기도/Noun - 고양시/Noun - 일산동구/Noun (34, 0.986)\n",
      "오토/Noun - 파지/Noun (68, 0.986)\n",
      "정유/Noun - 라씨/Noun (199, 0.985)\n",
      "선우용여/Noun - 성동일/Noun - 배성우/Noun - 임주환/Noun (43, 0.985)\n",
      "김현정/Noun - 의/Josa - 뉴스쇼/Noun (32, 0.985)\n",
      "기준/Noun - 으로/Josa - 볼때/Noun (63, 0.984)\n",
      "동대문/Noun - 디자인/Noun - 플라자/Noun (2326, 0.984)\n",
      "들/Suffix - 의/Josa - 배/Noun - 열도/Noun (41, 0.984)\n",
      "공감/Noun - 언론/Noun - 뉴시스/Noun - 통신사/Noun (2649, 0.984)\n",
      "년/Noun - 여간/Noun - 생활하던/Verb (30, 0.984)\n",
      "아/Josa - 릭스/Noun - 테트라/Noun (30, 0.984)\n",
      "에/Josa - 자유로이/Adverb (358, 0.984)\n",
      "김가연/Noun - 과/Josa - 장영란/Noun (57, 0.983)\n",
      "에/Josa - 관해/Noun (170, 0.983)\n",
      "플레이/Noun - 보이즈/Noun (56, 0.982)\n",
      "에/Josa - 불과해/Adjective (56, 0.982)\n",
      "차/Noun - 산업혁명/Noun (165, 0.982)\n",
      "뉴스/Noun - 김현우/Noun (162, 0.982)\n",
      "구기/Noun - 와/Noun - 시옹/Noun (53, 0.982)\n",
      "차/Noun - 은택/Noun (160, 0.982)\n",
      "뉴시스/Noun - 이정선/Noun (53, 0.981)\n",
      "뉴스/Noun - 1/Number - 스타/Noun - 고아라/Noun (121, 0.981)\n",
      "을/Josa - 위하고/Verb (50, 0.980)\n",
      "족보/Noun - 꼬인/Adjective (445, 0.980)\n",
      "에/Josa - 대하여/Verb (98, 0.980)\n",
      "11/Number - 번가/Noun (49, 0.980)\n"
     ]
    }
   ],
   "source": [
    "for ngram in sorted(ngrams_cohesion, key=lambda x:x.cohesion_backward if x.score != 1.0 else -1, reverse=True)[:100]:\n",
    "    print(ngram.words, '(%d, %.3f)' % (ngram.frequency, ngram.score))"
   ]
  },
  {
   "cell_type": "code",
   "execution_count": 10,
   "metadata": {
    "collapsed": false,
    "scrolled": false
   },
   "outputs": [
    {
     "name": "stdout",
     "output_type": "stream",
     "text": [
      "사랑/Noun - 이/Josa (92, 0.039)\n",
      "발굴/Noun - 하는/Verb (40, 0.062)\n",
      "가/Josa - 끝난/Verb - 뒤/Noun (45, 0.102)\n",
      "지/Eomi - 못/VerbPrefix - 했/Verb - 다/Eomi (57, 0.194)\n",
      "본/Verb - 적/Noun - 없는/Adjective (49, 0.178)\n",
      "경제/Noun - 인/Josa (73, 0.008)\n",
      "찾/Verb - 을/Eomi (190, 0.864)\n",
      "수요/Noun - 예측/Noun (63, 0.258)\n",
      "의기/Noun - 투합/Noun - 했/Verb - 다/Eomi (50, 0.672)\n",
      "적/Suffix - 기업/Noun (49, 0.008)\n",
      "화답/Noun - 했/Verb - 다/Eomi (41, 0.834)\n",
      "어린/Verb - 아이/Noun (34, 0.071)\n",
      "손님/Noun - 들/Suffix (66, 0.232)\n",
      "대선/Noun - 후보/Noun - 도널드/Noun (85, 0.370)\n",
      "기관사/Noun - 가/Josa (124, 0.291)\n",
      "에서/Josa - 강진/Noun (32, 0.053)\n",
      "좋/Adjective - 지/Eomi - 않았/Verb (44, 0.125)\n",
      "공격/Noun - 도/Josa (49, 0.063)\n",
      "가/Josa - 꽤/Noun (34, 0.233)\n",
      "청사/Noun - 에서/Josa - 제/Noun - 21/Number (35, 0.364)\n",
      "하는/Verb - 것/Noun - 이라고/Josa (43, 0.074)\n",
      "국회/Noun - 본/Verb - 청/Noun - 에서/Josa (30, 0.203)\n",
      "시/PreEomi - 면/Eomi - 적극/Noun (1625, 0.824)\n",
      "대책/Noun - 발표/Noun (50, 0.046)\n",
      "아침/Noun - 최저/Noun (49, 0.126)\n",
      "사업/Noun - 계획/Noun (64, 0.015)\n",
      "시/Noun - 21/Number - 분/Noun - 쯤/Suffix (37, 0.354)\n",
      "특혜/Noun - 의혹/Noun (258, 0.417)\n",
      "월/Noun - 6/Number - 월/Noun - 실적/Noun (37, 0.308)\n",
      "고/Josa - 있고/Adjective (109, 0.073)\n",
      "그/Noun - 다음/Noun (69, 0.039)\n",
      "신고/Noun - 로/Josa (45, 0.044)\n",
      "운영/Noun - 자금/Noun (46, 0.033)\n",
      "에/Josa - 달/Noun (565, 0.150)\n",
      "기업/Noun - 등/Noun (38, 0.006)\n",
      "출입국관리/Noun - 사무소/Noun (42, 0.955)\n",
      "주체/Noun - 가/Josa (39, 0.101)\n",
      "명/Suffix - 이상/Noun (64, 0.050)\n",
      "패션/Noun - 지/Josa (54, 0.042)\n",
      "빌/Verb - 미로/Noun (47, 0.770)\n",
      "내/Determiner - 진설/Noun - 계/Suffix (35, 0.141)\n",
      "가/Josa - 남/Noun (33, 0.025)\n",
      "차/Noun - 재정/Noun (61, 0.068)\n",
      "에/Josa - 대해/Noun (5569, 0.948)\n",
      "점/Noun - 이/Josa (417, 0.094)\n",
      "병원/Noun - 에서/Josa (138, 0.062)\n",
      "권리/Noun - 와/Josa (365, 0.344)\n",
      "것/Noun - 으로/Josa - 예상된/Verb - 다/Eomi (275, 0.190)\n",
      "최악/Noun - 의/Josa (135, 0.833)\n",
      "사용할/Verb - 수/Noun - 있도/Adjective - 록/Eomi (37, 0.458)\n",
      "8000/Number - 억원/Noun (63, 0.161)\n",
      "수석/Noun - 의/Josa - 불/Noun (82, 0.232)\n",
      "트위터/Noun - 를/Josa (49, 0.154)\n",
      "한강/Noun - 수상/Noun (49, 0.113)\n",
      "형식/Noun - 의/Josa (50, 0.160)\n",
      "을/Josa - 역임/Noun - 했/Verb - 다/Eomi (50, 0.067)\n",
      "엄정/Noun - 한/Josa (88, 0.221)\n",
      "이/Suffix - 은/Josa (40, 0.033)\n",
      "트리/Noun - 엇/VerbPrefix (35, 0.636)\n",
      "본/Verb - 청/Noun - 에서/Josa (40, 0.161)\n",
      "주간/Noun - 을/Josa - 기준/Noun - 으로/Josa (41, 0.399)\n",
      "은/Josa - 은/Noun (64, 0.013)\n",
      "을/Josa - 위해서/Verb - 모든/Noun (35, 0.108)\n",
      "훈련/Noun - 을/Josa (225, 0.213)\n",
      "비용/Noun - 도/Josa (32, 0.027)\n",
      "며/Noun - 지난/Noun (34, 0.004)\n",
      "이/Josa - 아닐/Adjective (47, 0.297)\n",
      "량/Noun - 지표/Noun - 로/Josa - 볼/Noun (40, 0.534)\n",
      "교통/Noun - 여건/Noun (31, 0.075)\n",
      "언급/Noun - 했/Verb - 다/Eomi (249, 0.477)\n",
      "프로그램/Noun - 에/Josa (128, 0.041)\n",
      "있도/Adjective - 록/Eomi - 하는/Verb (89, 0.198)\n",
      "오는/Verb - 31/Number - 일/Noun (93, 0.149)\n",
      "이다/Josa - 3/Number (32, 0.002)\n",
      "년/Noun - 에/Josa (469, 0.022)\n",
      "관광/Noun - 공사/Noun (100, 0.083)\n",
      "3/Number - 7/Number (87, 0.010)\n",
      "일/Noun - 오후/Noun - 10/Number (188, 0.114)\n",
      "13/Number - 개/Noun (66, 0.035)\n",
      "우/Adverb - 수석/Noun - 의/Josa - 국감/Noun (69, 0.418)\n",
      "곤/Noun - 기자/Noun - 20/Number - 일/Noun (34, 0.569)\n",
      "문제/Noun - 였/Verb (36, 0.015)\n",
      "11/Number - 월/Noun - 3/Number - 일/Noun (68, 0.230)\n",
      "기자/Noun - 투자/Noun (39, 0.009)\n",
      "의/Josa - 에/Josa (89, 0.001)\n",
      "발언/Noun - 도/Josa (31, 0.017)\n",
      "적/Suffix - 이고/Josa (550, 0.306)\n",
      "영화/Noun - 와/Josa (41, 0.010)\n",
      "을/Josa - 계기/Noun (189, 0.298)\n",
      "다/Eomi - 고/Noun - 밝혔/Verb - 다/Eomi (1336, 0.199)\n",
      "이미지/Noun - 우측/Noun - 하단/Noun - 의/Josa (74, 0.397)\n",
      "한/Verb - 다는/Eomi - 것/Noun (118, 0.072)\n",
      "0/Number - 31/Number (30, 0.032)\n",
      "으로/Josa - 6/Number (41, 0.005)\n",
      "모습/Noun - 이다/Josa - 또한/Noun - 전일/Noun (35, 0.481)\n",
      "를/Josa - 만든/Verb (65, 0.054)\n",
      "에/Josa - 사용한/Verb (43, 0.147)\n",
      "날/Noun - 기념/Noun (48, 0.041)\n",
      "첫/Noun - 싱글/Noun - 앨범/Noun - 어때/Adjective (53, 0.495)\n",
      "만들었/Verb - 다는/Eomi (56, 0.083)\n"
     ]
    }
   ],
   "source": [
    "for ngram in sorted(ngrams_cohesion, key=lambda x:x.score * ngrams_branchingentropy_dict.get(ngram, 0) if x.score != 1.0 else -1, reverse=True)[:100]:\n",
    "    print(ngram.words, '(%d, %.3f)' % (ngram.frequency, ngram.score))"
   ]
  },
  {
   "cell_type": "markdown",
   "metadata": {},
   "source": [
    "## 연속된 명사만 가지고 ngram 만들어보기"
   ]
  },
  {
   "cell_type": "code",
   "execution_count": 29,
   "metadata": {
    "collapsed": false
   },
   "outputs": [
    {
     "data": {
      "text/plain": [
       "71455"
      ]
     },
     "execution_count": 29,
     "metadata": {},
     "output_type": "execute_result"
    }
   ],
   "source": [
    "def is_only_noun_composition(words):\n",
    "    for word in words:\n",
    "        if ('/N' in word) == False:\n",
    "            return False\n",
    "    return True\n",
    "\n",
    "def detach_nountag(words):\n",
    "    return tuple([word.split('/N')[0] for word in words])\n",
    "\n",
    "only_nouns = {detach_nountag(ngram):freq for ngram, freq in ngrams.items() if is_only_noun_composition(ngram)}\n",
    "len(only_nouns)"
   ]
  },
  {
   "cell_type": "code",
   "execution_count": 30,
   "metadata": {
    "collapsed": false
   },
   "outputs": [
    {
     "data": {
      "text/plain": [
       "[(('배포', '금지'), 21403),\n",
       " (('20', '일'), 20854),\n",
       " (('무단', '전재'), 20485),\n",
       " (('재', '배포'), 20443),\n",
       " (('재', '배포', '금지'), 20435),\n",
       " (('및', '재'), 14692),\n",
       " (('및', '재', '배포'), 14687),\n",
       " (('및', '재', '배포', '금지'), 14687),\n",
       " (('전재', '및'), 14344),\n",
       " (('전재', '및', '재', '배포'), 14340)]"
      ]
     },
     "execution_count": 30,
     "metadata": {},
     "output_type": "execute_result"
    }
   ],
   "source": [
    "sorted(only_nouns.items(), key=lambda x:x[1] if len(x[0]) > 1 else -1, reverse=True)[:10]"
   ]
  },
  {
   "cell_type": "code",
   "execution_count": 31,
   "metadata": {
    "collapsed": false
   },
   "outputs": [],
   "source": [
    "noun_ngrams_cohesion = cohesion_score(only_nouns, 30)\n",
    "noun_ngrams_branchingentropy = branching_entropy(only_nouns, 30)\n",
    "noun_ngrams_mutualinformation = mutual_information(only_nouns, 30)"
   ]
  },
  {
   "cell_type": "code",
   "execution_count": 32,
   "metadata": {
    "collapsed": false
   },
   "outputs": [
    {
     "name": "stdout",
     "output_type": "stream",
     "text": [
      "극 - 중 (380, 7.308)\n",
      "극 - 대화 (194, 3.731)\n",
      "무단 - 전재 (20485, 1.000)\n",
      "영상 - 부 - 02 - 721 (1625, 1.000)\n",
      "721 - 7470 - 로 (1625, 0.999)\n",
      "부 - 02 - 721 (1625, 0.999)\n",
      "가치나 - 화제 (1625, 0.999)\n",
      "뉴스 - 가치나 (1625, 0.999)\n",
      "02 - 721 (1625, 0.999)\n",
      "헤라 - 서울 - 패션위크 (2338, 0.999)\n",
      "연합뉴스 - 02 - 398 - 4441 (199, 0.998)\n",
      "4409 - 제보 - 카톡 - 라인 (199, 0.998)\n",
      "4441 - 기사 - 문의 - 4409 (199, 0.998)\n",
      "기사 - 문의 - 4409 (199, 0.997)\n",
      "4409 - 제보 - 카톡 (199, 0.997)\n",
      "02 - 398 - 4441 (199, 0.997)\n",
      "헤라 - 서울 (2338, 0.997)\n",
      "배포 - 금지 (21403, 0.996)\n",
      "디스패치 - 박인영 - 김민정 - 기자 (74, 0.996)\n",
      "바운더 - 리스 - 컬렉션 (100, 0.995)\n",
      "문의 - 4409 (199, 0.995)\n",
      "398 - 4441 (199, 0.995)\n",
      "김창현 - 기자 (197, 0.995)\n",
      "정론 - 관 (605, 0.993)\n",
      "디스패치 - 박인영 - 김민정 (74, 0.993)\n",
      "노해 - 섭 - 기자 (147, 0.993)\n",
      "응 - 구기 (143, 0.993)\n",
      "문화 - 체육관 - 광부 (285, 0.993)\n",
      "일별 - 매매 - 회전 - 율 (43, 0.992)\n",
      "김성진 - 기자 (120, 0.992)\n",
      "전화 - 02 - 781 (358, 0.992)\n",
      "을지로 - 동대문 - 디자인 - 플라자 (591, 0.992)\n",
      "버락 - 오바마 (112, 0.991)\n",
      "우사 - 남 (221, 0.991)\n",
      "터온 - 뉴스 - 김현우 (162, 0.991)\n",
      "권현구 - 기자 - 20 - 일 (35, 0.991)\n",
      "심산 - 기념 - 문화센터 (52, 0.991)\n",
      "서울 - 연합뉴스 - 신 - 준희 (34, 0.990)\n",
      "오후 - 경기도 - 고양시 - 일산동구 (34, 0.990)\n",
      "일산동구 - 장항동 - 드림 - 센터 (34, 0.990)\n",
      "형주 - 기자 (101, 0.990)\n",
      "리 - 모델링 (101, 0.990)\n",
      "체육관 - 광부 (286, 0.990)\n",
      "네트웍 - 스 (95, 0.990)\n",
      "스포츠경향 - 무단 - 전재 - 및 (125, 0.990)\n",
      "기아 - 서프라이즈 - 위크엔드 (47, 0.990)\n",
      "김규종 - 김재중 - 유세윤 - 등 (31, 0.989)\n",
      "스포츠동아 - 무단 - 전재 - 및 (427, 0.989)\n",
      "조준혁 - 외교부 - 대변인 (44, 0.989)\n",
      "메 - 리츠 - 종금 (44, 0.989)\n",
      "총 - 체적 (87, 0.989)\n",
      "일별 - 매매 - 회전 (43, 0.989)\n",
      "4 - 차 - 산업혁명 (164, 0.988)\n",
      "구룡 - 마을 (81, 0.988)\n",
      "응 - 구기 - 와 - 시옹 (53, 0.988)\n",
      "을지로 - 동대문 - 디자인 (591, 0.988)\n",
      "보 - 여준 (307, 0.987)\n",
      "서울 - 연합뉴스 - 이재희 (37, 0.987)\n",
      "산업 - 통상 - 자원부 (184, 0.987)\n",
      "디스패치 - 박인영 (74, 0.987)\n",
      "02 - 781 (359, 0.986)\n",
      "총 - 궐기 (71, 0.986)\n",
      "권현구 - 기자 - 20 (35, 0.986)\n",
      "프로 - 듀스 (281, 0.986)\n",
      "일산동구 - 장항동 - 드림 (34, 0.986)\n",
      "연합뉴스 - 신 - 준희 (34, 0.986)\n",
      "경기도 - 고양시 - 일산동구 (34, 0.986)\n",
      "오토 - 파지 (68, 0.986)\n",
      "하퍼 - 스 - 바자 (33, 0.985)\n",
      "정유 - 라씨 (199, 0.985)\n",
      "딱풀 - 콤비 (198, 0.985)\n",
      "디그 - 낙 - 컬렉션 (65, 0.985)\n",
      "선우용여 - 성동일 - 배성우 - 임주환 (43, 0.985)\n",
      "남남서 - 쪽 - 9 (32, 0.985)\n",
      "제너 - 레이 - 션 - 넥스트 (168, 0.985)\n",
      "스포츠경향 - 무단 - 전재 (125, 0.984)\n",
      "동대문 - 디자인 - 플라자 (2326, 0.984)\n",
      "공감 - 언론 - 뉴시스 - 통신사 (2649, 0.984)\n",
      "통신사 - 무단 - 전재 - 재 (2649, 0.984)\n",
      "스포츠동아 - 무단 - 전재 (427, 0.984)\n",
      "최완 - 현 - 해양수산부 - 어업 (39, 0.983)\n",
      "롤링 - 홀 (405, 0.983)\n",
      "고스 - 란 (169, 0.983)\n",
      "플레이 - 보이즈 (56, 0.982)\n",
      "차 - 산업혁명 (165, 0.982)\n",
      "뉴스 - 김현우 (162, 0.982)\n",
      "구기 - 와 - 시옹 (53, 0.982)\n",
      "차 - 은택 (160, 0.982)\n",
      "대희 - 기자 (53, 0.981)\n",
      "뉴시스 - 이정선 (53, 0.981)\n",
      "이정선 - 기자 (53, 0.981)\n",
      "뉴스 - 1 - 스타 - 고아라 (121, 0.981)\n",
      "닐슨 - 코리아 (157, 0.981)\n",
      "심산 - 기념 (52, 0.981)\n",
      "기안 - 84 (152, 0.981)\n",
      "11 - 번가 (49, 0.980)\n",
      "서울 - 뉴스 - 1 - 구윤성 (32, 0.980)\n",
      "제너 - 레이 - 션 (169, 0.980)\n",
      "서울 - 뉴스 - 1 - 추연 (141, 0.980)\n",
      "서울 - 연합뉴스 - 김주성 (47, 0.979)\n"
     ]
    }
   ],
   "source": [
    "for ngram in sorted(noun_ngrams_cohesion, key=lambda x:x.score if x.score != 1.0 else -1, reverse=True)[:100]:\n",
    "    print(ngram.words, '(%d, %.3f)' % (ngram.frequency, ngram.score))"
   ]
  },
  {
   "cell_type": "code",
   "execution_count": 33,
   "metadata": {
    "collapsed": false
   },
   "outputs": [
    {
     "name": "stdout",
     "output_type": "stream",
     "text": [
      "기자 - 배우 (1124, 4.793)\n",
      "20 - 일 (20854, 3.889)\n",
      "기자 - 20 - 일 (1796, 2.739)\n",
      "10 - 월 (2225, 2.417)\n",
      "무단 - 전재 (20485, 2.275)\n",
      "2016 - 년 (1279, 2.218)\n",
      "19 - 일 (5604, 2.087)\n",
      "22 - 일 (1848, 1.989)\n",
      "오패산 - 터널 (796, 1.877)\n",
      "1 - 년 (1160, 1.842)\n",
      "일 - 오후 (5676, 1.757)\n",
      "뉴스 - 1 (6324, 1.677)\n",
      "9 - 월 (1468, 1.661)\n",
      "11 - 월 (2886, 1.619)\n",
      "6 - 월 (1208, 1.608)\n",
      "11 - 시 (616, 1.607)\n",
      "일 - 밤 (428, 1.584)\n",
      "서울 - 강남구 (770, 1.570)\n",
      "일 - 서울 (2440, 1.558)\n",
      "7 - 월 (1231, 1.539)\n",
      "투자 - 의견 (494, 1.507)\n",
      "21 - 일 (1752, 1.458)\n",
      "5 - 년 (704, 1.457)\n",
      "10 - 시 (924, 1.359)\n",
      "대선 - 후보 (951, 1.262)\n",
      "19 - 2016 (1378, 1.234)\n",
      "3 - 년 (681, 1.190)\n",
      "8 - 월 (1304, 1.183)\n",
      "2 - 년 (1078, 1.175)\n",
      "1 - 위 (1281, 1.154)\n",
      "서울 - 중구 (1089, 1.150)\n",
      "24 - 일 (1294, 1.140)\n",
      "20 - 일 - 서울 (1743, 1.108)\n",
      "1 - 만 (1033, 1.074)\n",
      "월 - 말 (382, 1.046)\n",
      "9 - 시 (619, 1.045)\n",
      "일 - 오전 (4057, 1.022)\n",
      "3 - 월 (918, 0.976)\n",
      "서울 - 여의도 - 국회 (625, 0.971)\n",
      "월 - 3 (278, 0.929)\n",
      "투자 - 증권 (557, 0.915)\n",
      "18 - 일 (1210, 0.911)\n",
      "일 - 현지 - 시간 (1317, 0.910)\n",
      "3 - 차 (882, 0.906)\n",
      "20 - 일 - 오전 (3302, 0.903)\n",
      "7 - 시 (682, 0.898)\n",
      "3 - 분기 (1385, 0.884)\n",
      "인턴 - 기자 (630, 0.880)\n",
      "걸그룹 - 불독 (356, 0.864)\n",
      "2 - 2 (671, 0.841)\n",
      "12 - 월 (1230, 0.837)\n",
      "년 - 10 - 월 (504, 0.769)\n",
      "스포츠 - 재단 (925, 0.767)\n",
      "사회 - 공헌 (374, 0.757)\n",
      "4 - 월 (894, 0.755)\n",
      "경제 - 무단 - 전재 (2375, 0.712)\n",
      "6 - 시 (638, 0.670)\n",
      "서울 - 종로구 (257, 0.649)\n",
      "힐러리 - 클린턴 (584, 0.619)\n",
      "년 - 6 (525, 0.616)\n",
      "경기도 - 고양시 (165, 0.614)\n",
      "오전 - 7 - 시 (346, 0.596)\n",
      "서울 - 마포구 (387, 0.584)\n",
      "오후 - 6 - 시 (437, 0.563)\n",
      "국방 - 장관 (649, 0.557)\n",
      "외교 - 국방 (595, 0.552)\n",
      "2016 - 10 - 20 (5169, 0.545)\n",
      "국회 - 운영 (535, 0.534)\n",
      "재 - 송신 (429, 0.510)\n",
      "서울 - 여의도 (975, 0.509)\n",
      "년 - 3 (399, 0.492)\n",
      "6 - 개 (798, 0.485)\n",
      "의견 - 제시 - 일자 (78, 0.480)\n",
      "기념 - 포토 (78, 0.478)\n",
      "년 - 11 - 월 (325, 0.478)\n",
      "철도 - 파업 (152, 0.475)\n",
      "만 - 달러 (341, 0.474)\n",
      "윤춘호 - 디자이너 (87, 0.472)\n",
      "투자 - 의견 - 매수 (145, 0.472)\n",
      "만 - 3000 (160, 0.469)\n",
      "단지 - 내 (184, 0.465)\n",
      "부총리 - 겸 (136, 0.462)\n",
      "만 - 5000 (305, 0.461)\n",
      "기자 - 손학규 (426, 0.457)\n",
      "전략 - 협의 (300, 0.453)\n",
      "서울 - 강북구 (357, 0.452)\n",
      "만 - 2000 (213, 0.452)\n",
      "일 - 오후 - 서울 (2898, 0.450)\n",
      "디자이너 - 브랜드 (742, 0.448)\n",
      "국회 - 운영 - 위원회 (376, 0.447)\n",
      "소윙바운더 - 리스 (129, 0.443)\n",
      "년 - 2 (370, 0.425)\n",
      "도널드 - 트럼프 (597, 0.423)\n",
      "이 - 20 - 일 (263, 0.421)\n",
      "재단 - 설립 (397, 0.420)\n",
      "협의 - 체 (662, 0.410)\n",
      "2 - 4 (246, 0.410)\n",
      "정계 - 복귀 (1265, 0.408)\n",
      "2016 - 20 (195, 0.405)\n",
      "서울 - 마포구 - 서교동 (163, 0.387)\n"
     ]
    }
   ],
   "source": [
    "for ngram in sorted(noun_ngrams_branchingentropy, key=lambda x:x.score if x.score != 1.0 else -1, reverse=True)[:100]:\n",
    "    print(ngram.words, '(%d, %.3f)' % (ngram.frequency, ngram.score))"
   ]
  },
  {
   "cell_type": "code",
   "execution_count": 34,
   "metadata": {
    "collapsed": false
   },
   "outputs": [
    {
     "name": "stdout",
     "output_type": "stream",
     "text": [
      "민정수 - 석비 (69, 0.008)\n",
      "재규어 - 랜드로버 (65, 0.008)\n",
      "헤러 - 사울 (47, 0.008)\n",
      "한윤 - 종 - 기자 - 0709 (51, 0.008)\n",
      "쿵쉬 - 안유 (48, 0.007)\n",
      "디스패치 - 박인영 (74, 0.007)\n",
      "1661 - 0190 (99, 0.007)\n",
      "민정수 - 석비 - 서관 (69, 0.007)\n",
      "백남 - 기씨 (42, 0.007)\n",
      "알티 - 에어로 (66, 0.007)\n",
      "재시 - 재아 (44, 0.006)\n",
      "석비 - 서관 (71, 0.006)\n",
      "오랄 - 리프트 (73, 0.006)\n",
      "이웃집 - 꽃미남 (97, 0.006)\n",
      "월계수 - 양복 - 점 - 신사 (87, 0.006)\n",
      "메르세데스 - 벤츠 (64, 0.006)\n",
      "명실 - 상부 (74, 0.006)\n",
      "화기 - 애애 (54, 0.006)\n",
      "민중 - 총 - 궐기 (66, 0.006)\n",
      "디그 - 낙 (67, 0.006)\n",
      "심산 - 기념 - 문화센터 (52, 0.006)\n",
      "스피드 - 데이팅 (54, 0.006)\n",
      "잭 - 리처 (81, 0.006)\n",
      "멜라 - 니아 (43, 0.006)\n",
      "신길 - 뉴타운 (75, 0.006)\n",
      "민욱 - 박태민 (63, 0.006)\n",
      "역도 - 요정 - 김 - 복주 (70, 0.006)\n",
      "애슈 - 턴 (130, 0.006)\n",
      "평안북도 - 구성시 (95, 0.006)\n",
      "칠곡군 - 석적읍 (42, 0.006)\n",
      "반포동 - 심산 (49, 0.006)\n",
      "디스패치 - 박인영 - 김민정 (74, 0.006)\n",
      "정희 - 연 - 기자 - 2562 (41, 0.006)\n",
      "월계수 - 양복 (94, 0.006)\n",
      "방공 - 유도탄 (63, 0.006)\n",
      "반포동 - 심산 - 기념 - 문화센터 (49, 0.006)\n",
      "김민정 - 기자 - 이미지 - 우측 (74, 0.005)\n",
      "바이 - 오시 - 밀러 (81, 0.005)\n",
      "알티 - 에어로 - 스페이스 (66, 0.005)\n",
      "박인영 - 김민정 - 기자 - 이미지 (74, 0.005)\n",
      "역도 - 요정 (70, 0.005)\n",
      "두시 - 탈출 - 컬투쇼 (75, 0.005)\n",
      "의기 - 투합 (165, 0.005)\n",
      "선우용여 - 성동일 - 배성우 (63, 0.005)\n",
      "조선 - 제보 - 전화 - 1661 (99, 0.005)\n",
      "양복 - 점 - 신사 (87, 0.005)\n",
      "스포트라이트 - 온 - 코리아 - 섹션 (43, 0.005)\n",
      "요정 - 김 - 복주 (70, 0.005)\n",
      "애슈 - 턴 - 카터 (130, 0.005)\n",
      "제보 - 전화 - 1661 - 0190 (99, 0.005)\n",
      "디스패치 - 박인영 - 김민정 - 기자 (74, 0.005)\n",
      "박명재 - 사무 - 총장 - 김문수 (46, 0.005)\n",
      "기아 - 서프라이즈 - 위크엔드 (47, 0.005)\n",
      "일찌 - 감치 (36, 0.005)\n",
      "평안북도 - 구성시 - 방현 (69, 0.005)\n",
      "해시 - 태그 (46, 0.005)\n",
      "예수 - 성교 (73, 0.005)\n",
      "김성진 - 기자 - 0829 (66, 0.005)\n",
      "헬 - 스케 (105, 0.005)\n",
      "청와대 - 민정수 - 석비 - 서관 (64, 0.004)\n",
      "변기 - 뚜껑 (69, 0.004)\n",
      "질소 - 산화물 (45, 0.004)\n",
      "성교 - 누가복음 - 전서 (45, 0.004)\n",
      "아동복 - 특 - 가전 - 등 (83, 0.004)\n",
      "니 - 화가 - 공동 - 작사 (62, 0.004)\n",
      "브렉 - 시트 (149, 0.004)\n",
      "낭만 - 닥터 - 김 - 사부 (99, 0.004)\n",
      "북대서양 - 조약 (45, 0.004)\n",
      "일별 - 매매 - 회전 - 율 (43, 0.004)\n",
      "이동형 - 프리미엄 - 디지털 - 엑스레이 (73, 0.004)\n",
      "기자 - 이미지 - 우측 - 하단 (74, 0.004)\n",
      "선우용여 - 성동일 - 배성우 - 임주환 (43, 0.004)\n",
      "온라인 - 정보 - 팀 - 유병철 (122, 0.004)\n",
      "전박 - 대첩 (39, 0.004)\n",
      "일별 - 매매 - 회전 (43, 0.004)\n",
      "누가복음 - 전서 (45, 0.004)\n",
      "성교 - 누가복음 (45, 0.004)\n",
      "4441 - 기사 - 문의 - 4409 (199, 0.004)\n",
      "오시 - 밀러 (81, 0.004)\n",
      "구기 - 와 - 시옹 (53, 0.004)\n",
      "발해 - 태조 (48, 0.004)\n",
      "닥터 - 스 - 트레인 (98, 0.004)\n",
      "귀농 - 귀촌 (40, 0.004)\n",
      "박근형 - 선우용여 - 성동일 - 배성우 (63, 0.004)\n",
      "인신 - 공격성 (48, 0.004)\n",
      "디그 - 낙 - 컬렉션 (65, 0.004)\n",
      "제너 - 레이 - 션 - 넥스트 (168, 0.004)\n",
      "구성시 - 방현 (72, 0.004)\n",
      "평안북도 - 구성시 - 방현 - 비행장 (69, 0.004)\n",
      "에드 - 링턴 (37, 0.004)\n",
      "친환 - 경차 (71, 0.004)\n",
      "파워 - 두시 - 탈출 - 컬투쇼 (63, 0.004)\n",
      "김홍 - 범 - 디자이너 - 크레스에딤 (127, 0.004)\n",
      "하동 - 호 - 디자이너 - 소윙바운더 (63, 0.004)\n",
      "웨스 - 틴 - 조선 (57, 0.004)\n",
      "세일 - 페스 (166, 0.004)\n",
      "닉티 - 코스 - 메 (50, 0.004)\n",
      "4409 - 제보 - 카톡 (199, 0.004)\n",
      "주식 - 수 - 대비 - 거래량 (79, 0.004)\n",
      "데일리안 - 무단 - 전재 - 변형 (126, 0.004)\n"
     ]
    }
   ],
   "source": [
    "for ngram in sorted(noun_ngrams_mutualinformation, key=lambda x:x.score if x.score != 1.0 else -1, reverse=True)[:100]:\n",
    "    print(ngram.words, '(%d, %.3f)' % (ngram.frequency, ngram.score))"
   ]
  }
 ],
 "metadata": {
  "kernelspec": {
   "display_name": "Python 3",
   "language": "python",
   "name": "python3"
  },
  "language_info": {
   "codemirror_mode": {
    "name": "ipython",
    "version": 3
   },
   "file_extension": ".py",
   "mimetype": "text/x-python",
   "name": "python",
   "nbconvert_exporter": "python",
   "pygments_lexer": "ipython3",
   "version": "3.5.2"
  }
 },
 "nbformat": 4,
 "nbformat_minor": 0
}
