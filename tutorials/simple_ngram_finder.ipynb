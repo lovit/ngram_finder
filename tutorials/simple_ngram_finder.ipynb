{
 "cells": [
  {
   "cell_type": "code",
   "execution_count": 1,
   "metadata": {
    "collapsed": false
   },
   "outputs": [
    {
     "data": {
      "text/plain": [
       "237123"
      ]
     },
     "execution_count": 1,
     "metadata": {},
     "output_type": "execute_result"
    }
   ],
   "source": [
    "from config import tokenized_corpus_fname\n",
    "from soynlp.utils import DoublespaceLineCorpus\n",
    "\n",
    "corpus = DoublespaceLineCorpus(tokenized_corpus_fname, iter_sent=True)\n",
    "len(corpus)"
   ]
  },
  {
   "cell_type": "code",
   "execution_count": 2,
   "metadata": {
    "collapsed": false
   },
   "outputs": [
    {
     "name": "stdout",
     "output_type": "stream",
     "text": [
      "scanning simple ngram was done. memory= 0.274 Gb\n"
     ]
    }
   ],
   "source": [
    "import sys\n",
    "sys.path.append('../')\n",
    "import ngram_finder\n",
    "from ngram_finder.simplengram import SimpleNgramFinder\n",
    "\n",
    "ngram_finder = SimpleNgramFinder()\n",
    "ngrams = ngram_finder.train(corpus)"
   ]
  },
  {
   "cell_type": "code",
   "execution_count": 8,
   "metadata": {
    "collapsed": false
   },
   "outputs": [
    {
     "data": {
      "text/plain": [
       "[(('재배포', '금지'), 14960),\n",
       " (('및', '재배포'), 13916),\n",
       " (('및', '재배포', '금지'), 13916),\n",
       " (('할', '수'), 9003),\n",
       " (('무단', '전재'), 8214),\n",
       " (('전재', '및'), 7669),\n",
       " (('전재', '및', '재배포'), 7665),\n",
       " (('전재', '및', '재배포', '금지'), 7665),\n",
       " (('무단', '전재', '및', '재배포'), 7635),\n",
       " (('무단', '전재', '및'), 7635)]"
      ]
     },
     "execution_count": 8,
     "metadata": {},
     "output_type": "execute_result"
    }
   ],
   "source": [
    "sorted(ngrams.items(), key=lambda x:x[1] if len(x[0]) > 1 else -1, reverse=True)[:10]"
   ]
  },
  {
   "cell_type": "code",
   "execution_count": 3,
   "metadata": {
    "collapsed": false
   },
   "outputs": [
    {
     "data": {
      "text/plain": [
       "178849"
      ]
     },
     "execution_count": 3,
     "metadata": {},
     "output_type": "execute_result"
    }
   ],
   "source": [
    "len(ngrams)"
   ]
  }
 ],
 "metadata": {
  "kernelspec": {
   "display_name": "Python 3",
   "language": "python",
   "name": "python3"
  },
  "language_info": {
   "codemirror_mode": {
    "name": "ipython",
    "version": 3
   },
   "file_extension": ".py",
   "mimetype": "text/x-python",
   "name": "python",
   "nbconvert_exporter": "python",
   "pygments_lexer": "ipython3",
   "version": "3.5.2"
  }
 },
 "nbformat": 4,
 "nbformat_minor": 0
}
