{
 "cells": [
  {
   "cell_type": "code",
   "execution_count": 10,
   "metadata": {
    "collapsed": false
   },
   "outputs": [
    {
     "name": "stdout",
     "output_type": "stream",
     "text": [
      "2016-10-20_article_all.txt\n",
      "2016-10-20_article_all_tokenized_sents.txt\n"
     ]
    }
   ],
   "source": [
    "from config import tokenized_corpus_fname, raw_corpus_fname\n",
    "print(raw_corpus_fname.split('/')[-1])\n",
    "print(tokenized_corpus_fname.split('/')[-1])"
   ]
  },
  {
   "cell_type": "code",
   "execution_count": 2,
   "metadata": {
    "collapsed": false
   },
   "outputs": [
    {
     "name": "stdout",
     "output_type": "stream",
     "text": [
      "training was done. used memory 0.952 Gb\n",
      "all cohesion probabilities was computed. # words = 302661\n",
      "all branching entropies was computed # words = 517189\n",
      "all accessor variety was computed # words = 517189\n"
     ]
    }
   ],
   "source": [
    "from soynlp.word import WordExtractor\n",
    "from soynlp.utils import DoublespaceLineCorpus\n",
    "\n",
    "word_extractor = WordExtractor()\n",
    "word_extractor.train(DoublespaceLineCorpus(raw_corpus_fname, iter_sent=True))\n",
    "scores = word_extractor.word_scores()"
   ]
  },
  {
   "cell_type": "code",
   "execution_count": 3,
   "metadata": {
    "collapsed": false
   },
   "outputs": [
    {
     "data": {
      "text/plain": [
       "Scores(cohesion_forward=0.33882482152663373, cohesion_backward=0.091566265060240959, left_branching_entropy=3.8411982878267583, right_branching_entropy=3.4408919648817484, left_accessor_variety=93, right_accessor_variety=65, leftside_frequency=1234, rightside_frequency=38)"
      ]
     },
     "execution_count": 3,
     "metadata": {},
     "output_type": "execute_result"
    }
   ],
   "source": [
    "scores['음악']"
   ]
  },
  {
   "cell_type": "code",
   "execution_count": 4,
   "metadata": {
    "collapsed": true
   },
   "outputs": [],
   "source": [
    "tokenizer_scores = {word:score.cohesion_forward * score.right_branching_entropy for word,score in scores.items()}"
   ]
  },
  {
   "cell_type": "code",
   "execution_count": 6,
   "metadata": {
    "collapsed": false
   },
   "outputs": [
    {
     "data": {
      "text/plain": [
       "['이번', '데이터', '를', '처리', '해봅시다']"
      ]
     },
     "execution_count": 6,
     "metadata": {},
     "output_type": "execute_result"
    }
   ],
   "source": [
    "from soynlp.tokenizer import LTokenizer\n",
    "\n",
    "tokenizer = LTokenizer(scores = tokenizer_scores)\n",
    "tokenizer.tokenize('이번 데이터를 처리해봅시다')"
   ]
  },
  {
   "cell_type": "code",
   "execution_count": 9,
   "metadata": {
    "collapsed": false
   },
   "outputs": [],
   "source": [
    "with open(tokenized_corpus_fname, 'w', encoding='utf-8') as fo:\n",
    "    for sent in DoublespaceLineCorpus(raw_corpus_fname, iter_sent=True):\n",
    "        sent_ = ' '.join(tokenizer.tokenize(sent))\n",
    "        fo.write('%s\\n' % sent_)"
   ]
  },
  {
   "cell_type": "code",
   "execution_count": null,
   "metadata": {
    "collapsed": true
   },
   "outputs": [],
   "source": []
  }
 ],
 "metadata": {
  "kernelspec": {
   "display_name": "Python 3",
   "language": "python",
   "name": "python3"
  },
  "language_info": {
   "codemirror_mode": {
    "name": "ipython",
    "version": 3
   },
   "file_extension": ".py",
   "mimetype": "text/x-python",
   "name": "python",
   "nbconvert_exporter": "python",
   "pygments_lexer": "ipython3",
   "version": "3.5.2"
  }
 },
 "nbformat": 4,
 "nbformat_minor": 0
}
